{
  "nbformat": 4,
  "nbformat_minor": 0,
  "metadata": {
    "colab": {
      "provenance": [],
      "authorship_tag": "ABX9TyPu6faNWXVPfT25SR8Frsrc",
      "include_colab_link": true
    },
    "kernelspec": {
      "name": "python3",
      "display_name": "Python 3"
    },
    "language_info": {
      "name": "python"
    }
  },
  "cells": [
    {
      "cell_type": "markdown",
      "metadata": {
        "id": "view-in-github",
        "colab_type": "text"
      },
      "source": [
        "<a href=\"https://colab.research.google.com/github/harimachavarapu/deep-learning-project/blob/main/pythonlearning.ipynb\" target=\"_parent\"><img src=\"https://colab.research.google.com/assets/colab-badge.svg\" alt=\"Open In Colab\"/></a>"
      ]
    },
    {
      "cell_type": "code",
      "execution_count": null,
      "metadata": {
        "colab": {
          "base_uri": "https://localhost:8080/"
        },
        "id": "Qg_q_vJ6rqJQ",
        "outputId": "d0ef58d4-30c3-42e9-bbf1-86bc77f007db"
      },
      "outputs": [
        {
          "output_type": "stream",
          "name": "stdout",
          "text": [
            "['r', 'ee', 'ace', 'abcf']\n"
          ]
        }
      ],
      "source": [
        "str = ['abcf', 'ace', 'ee', 'r']\n",
        "print(sorted(str,key = len))"
      ]
    },
    {
      "cell_type": "code",
      "source": [
        "def hl(c):\n",
        "  return c[-1]\n",
        "\n",
        "hl(str)\n"
      ],
      "metadata": {
        "colab": {
          "base_uri": "https://localhost:8080/",
          "height": 36
        },
        "id": "y13asfxxsIrZ",
        "outputId": "abd1449c-ee1b-46cd-897f-fd030f15ca29"
      },
      "execution_count": null,
      "outputs": [
        {
          "output_type": "execute_result",
          "data": {
            "text/plain": [
              "'r'"
            ],
            "application/vnd.google.colaboratory.intrinsic+json": {
              "type": "string"
            }
          },
          "metadata": {},
          "execution_count": 9
        }
      ]
    },
    {
      "cell_type": "code",
      "source": [
        "hari = ('hari', 'giri', 'seeta', 888)\n",
        "krishna = (1,1,2,23,3,4)\n",
        "print(hari)\n",
        "print(krishna)"
      ],
      "metadata": {
        "colab": {
          "base_uri": "https://localhost:8080/"
        },
        "id": "2_Oi4QlN2JHC",
        "outputId": "e5274715-6f28-41c4-b5f2-68511c3c56ce"
      },
      "execution_count": null,
      "outputs": [
        {
          "output_type": "stream",
          "name": "stdout",
          "text": [
            "('hari', 'giri', 'seeta', 888)\n",
            "(1, 1, 2, 23, 3, 4)\n"
          ]
        }
      ]
    },
    {
      "cell_type": "code",
      "source": [
        "id(hari)\n",
        "id(krishna)"
      ],
      "metadata": {
        "colab": {
          "base_uri": "https://localhost:8080/"
        },
        "id": "BGI07FLz43b8",
        "outputId": "f021e4db-af5c-4568-9a8f-fc8bc7e001cc"
      },
      "execution_count": null,
      "outputs": [
        {
          "output_type": "execute_result",
          "data": {
            "text/plain": [
              "140451120407056"
            ]
          },
          "metadata": {},
          "execution_count": 13
        }
      ]
    },
    {
      "cell_type": "code",
      "source": [
        "type(hari)"
      ],
      "metadata": {
        "colab": {
          "base_uri": "https://localhost:8080/"
        },
        "id": "puwaHVAH490A",
        "outputId": "d7f4901e-dbbf-4506-e979-29dc18381a34"
      },
      "execution_count": null,
      "outputs": [
        {
          "output_type": "execute_result",
          "data": {
            "text/plain": [
              "tuple"
            ]
          },
          "metadata": {},
          "execution_count": 14
        }
      ]
    },
    {
      "cell_type": "code",
      "source": [
        "hari = ('ja', )\n",
        "hari"
      ],
      "metadata": {
        "colab": {
          "base_uri": "https://localhost:8080/"
        },
        "id": "3M_lGHbd5AIH",
        "outputId": "2758e8f5-7078-4aca-da44-144de3750ca2"
      },
      "execution_count": null,
      "outputs": [
        {
          "output_type": "execute_result",
          "data": {
            "text/plain": [
              "('ja',)"
            ]
          },
          "metadata": {},
          "execution_count": 22
        }
      ]
    },
    {
      "cell_type": "code",
      "source": [
        "hari = (\"gkhjk\",\"gfyt\",\"guyg\",\"ghjgg\",77)\n",
        "print(hari[0])"
      ],
      "metadata": {
        "colab": {
          "base_uri": "https://localhost:8080/"
        },
        "id": "Dz4dRLsh5end",
        "outputId": "339b5ae4-92fc-4f27-dc87-a99722415526"
      },
      "execution_count": null,
      "outputs": [
        {
          "output_type": "stream",
          "name": "stdout",
          "text": [
            "gkhjk\n"
          ]
        }
      ]
    },
    {
      "cell_type": "code",
      "source": [
        "jj = (1,3,4,5,6,7,7,8,9,9)\n",
        "print(jj[1:9])"
      ],
      "metadata": {
        "colab": {
          "base_uri": "https://localhost:8080/"
        },
        "id": "_KeZIfKD5seP",
        "outputId": "21bfe2bc-0a10-404f-c732-be4545c97846"
      },
      "execution_count": null,
      "outputs": [
        {
          "output_type": "stream",
          "name": "stdout",
          "text": [
            "(3, 4, 5, 6, 7, 7, 8, 9)\n"
          ]
        }
      ]
    },
    {
      "cell_type": "code",
      "source": [
        "gg = hari + jj \n",
        "print(gg)"
      ],
      "metadata": {
        "colab": {
          "base_uri": "https://localhost:8080/"
        },
        "id": "ia72G2PO6Ba4",
        "outputId": "61ef260a-2990-400e-cb90-8244de95ff46"
      },
      "execution_count": null,
      "outputs": [
        {
          "output_type": "stream",
          "name": "stdout",
          "text": [
            "('gkhjk', 'gfyt', 'guyg', 'ghjgg', 77, 1, 3, 4, 5, 6, 7, 7, 8, 9, 9)\n"
          ]
        }
      ]
    },
    {
      "cell_type": "code",
      "source": [
        "hk = set(['ab','bc','cd'])\n",
        "print('hk')\n",
        "print(hk)"
      ],
      "metadata": {
        "colab": {
          "base_uri": "https://localhost:8080/"
        },
        "id": "_7jNzzk66M-t",
        "outputId": "85dbbdf1-b741-487a-cb80-fb349309050b"
      },
      "execution_count": null,
      "outputs": [
        {
          "output_type": "stream",
          "name": "stdout",
          "text": [
            "hk\n",
            "{'cd', 'bc', 'ab'}\n"
          ]
        }
      ]
    },
    {
      "cell_type": "code",
      "source": [
        "hk.add('dc')\n",
        "print(hk)"
      ],
      "metadata": {
        "colab": {
          "base_uri": "https://localhost:8080/",
          "height": 182
        },
        "id": "8Pggyav36h09",
        "outputId": "94e61001-0162-4f75-93d5-1cdb8ad0c014"
      },
      "execution_count": 1,
      "outputs": [
        {
          "output_type": "error",
          "ename": "NameError",
          "evalue": "ignored",
          "traceback": [
            "\u001b[0;31m---------------------------------------------------------------------------\u001b[0m",
            "\u001b[0;31mNameError\u001b[0m                                 Traceback (most recent call last)",
            "\u001b[0;32m<ipython-input-1-3e83a8508c87>\u001b[0m in \u001b[0;36m<module>\u001b[0;34m\u001b[0m\n\u001b[0;32m----> 1\u001b[0;31m \u001b[0mhk\u001b[0m\u001b[0;34m.\u001b[0m\u001b[0madd\u001b[0m\u001b[0;34m(\u001b[0m\u001b[0;34m'dc'\u001b[0m\u001b[0;34m)\u001b[0m\u001b[0;34m\u001b[0m\u001b[0;34m\u001b[0m\u001b[0m\n\u001b[0m\u001b[1;32m      2\u001b[0m \u001b[0mprint\u001b[0m\u001b[0;34m(\u001b[0m\u001b[0mhk\u001b[0m\u001b[0;34m)\u001b[0m\u001b[0;34m\u001b[0m\u001b[0;34m\u001b[0m\u001b[0m\n",
            "\u001b[0;31mNameError\u001b[0m: name 'hk' is not defined"
          ]
        }
      ]
    },
    {
      "cell_type": "markdown",
      "source": [
        "SET OPERATIONS"
      ],
      "metadata": {
        "id": "_7X-MBUxFVkx"
      }
    },
    {
      "cell_type": "code",
      "source": [
        "set1 = set()\n",
        "set2 = set()"
      ],
      "metadata": {
        "id": "eAz2GcENFJ1o"
      },
      "execution_count": 2,
      "outputs": []
    },
    {
      "cell_type": "code",
      "source": [
        "print(set1,set2)"
      ],
      "metadata": {
        "colab": {
          "base_uri": "https://localhost:8080/"
        },
        "id": "e5flYxQXFcVd",
        "outputId": "970558d6-1924-4435-b0fa-d60a595a04dc"
      },
      "execution_count": 3,
      "outputs": [
        {
          "output_type": "stream",
          "name": "stdout",
          "text": [
            "set() set()\n"
          ]
        }
      ]
    },
    {
      "cell_type": "code",
      "source": [
        "for i in range(1,10):\n",
        "  set1.add(i)"
      ],
      "metadata": {
        "id": "1kLEY1sGFf0Z"
      },
      "execution_count": 4,
      "outputs": []
    },
    {
      "cell_type": "code",
      "source": [
        "print(set1)"
      ],
      "metadata": {
        "colab": {
          "base_uri": "https://localhost:8080/"
        },
        "id": "NPGUyT1eFo-h",
        "outputId": "004e4242-d7a4-4bb6-85f4-ff8b305da047"
      },
      "execution_count": 5,
      "outputs": [
        {
          "output_type": "stream",
          "name": "stdout",
          "text": [
            "{1, 2, 3, 4, 5, 6, 7, 8, 9}\n"
          ]
        }
      ]
    },
    {
      "cell_type": "code",
      "source": [
        "for k in range(0,3):\n",
        "  set2.add(k)\n"
      ],
      "metadata": {
        "id": "YwWiPBLyFrbi"
      },
      "execution_count": 8,
      "outputs": []
    },
    {
      "cell_type": "code",
      "source": [
        "print(set2)"
      ],
      "metadata": {
        "colab": {
          "base_uri": "https://localhost:8080/"
        },
        "id": "8mmhYjQvF1UT",
        "outputId": "cee7347b-982e-4759-f3c5-1a3d4f9fa124"
      },
      "execution_count": 9,
      "outputs": [
        {
          "output_type": "stream",
          "name": "stdout",
          "text": [
            "{0, 1, 2}\n"
          ]
        }
      ]
    },
    {
      "cell_type": "markdown",
      "source": [
        "union"
      ],
      "metadata": {
        "id": "rRAemp6pF9Wk"
      }
    },
    {
      "cell_type": "code",
      "source": [
        "set3 = set1|set2\n",
        "print('union of set1 & set2 : set3 = ',set3)"
      ],
      "metadata": {
        "colab": {
          "base_uri": "https://localhost:8080/"
        },
        "id": "xxvDXYRhF6LK",
        "outputId": "73f9304e-587a-4b20-e535-2c7af49158ac"
      },
      "execution_count": 10,
      "outputs": [
        {
          "output_type": "stream",
          "name": "stdout",
          "text": [
            "union of set1 & set2 : set3 =  {0, 1, 2, 3, 4, 5, 6, 7, 8, 9}\n"
          ]
        }
      ]
    },
    {
      "cell_type": "code",
      "source": [
        "if set3>set2:\n",
        "  print('hari')\n",
        "else:\n",
        "  print('puku')"
      ],
      "metadata": {
        "colab": {
          "base_uri": "https://localhost:8080/"
        },
        "id": "dh9TQ1AyGQii",
        "outputId": "d934ab02-3ea4-4db0-bcfd-6569cebdd21a"
      },
      "execution_count": 13,
      "outputs": [
        {
          "output_type": "stream",
          "name": "stdout",
          "text": [
            "hari\n"
          ]
        }
      ]
    },
    {
      "cell_type": "code",
      "source": [
        "name = (input('enter name :'))\n",
        "age  = int(input('enter age :'))\n",
        "\n",
        "if age<19:\n",
        "  print('hai',name)\n",
        "elif age>19 and age>20:\n",
        "  print('fuck',name)  \n",
        "else:\n",
        "  print('keerthi',name)"
      ],
      "metadata": {
        "colab": {
          "base_uri": "https://localhost:8080/"
        },
        "id": "7IqWMfFoGeBg",
        "outputId": "75c86c5f-ce65-4824-f0b3-5af85b2e081c"
      },
      "execution_count": 21,
      "outputs": [
        {
          "output_type": "stream",
          "name": "stdout",
          "text": [
            "enter name :23\n",
            "enter age :3\n",
            "hai 23\n"
          ]
        }
      ]
    },
    {
      "cell_type": "code",
      "source": [
        "friends = ['hsaj','skajs','sasad','dasd']\n",
        "for friends in friends:\n",
        "  print('good friends:',friends)"
      ],
      "metadata": {
        "colab": {
          "base_uri": "https://localhost:8080/"
        },
        "id": "r9a9wb2PHQD0",
        "outputId": "8a802c04-c647-42f8-a60d-4e7124f649c9"
      },
      "execution_count": 1,
      "outputs": [
        {
          "output_type": "stream",
          "name": "stdout",
          "text": [
            "good friends: hsaj\n",
            "good friends: skajs\n",
            "good friends: sasad\n",
            "good friends: dasd\n"
          ]
        }
      ]
    },
    {
      "cell_type": "code",
      "source": [
        "range(1, 19, 1)"
      ],
      "metadata": {
        "colab": {
          "base_uri": "https://localhost:8080/"
        },
        "id": "nR54mXJGzNqJ",
        "outputId": "d203cd7d-8ab4-483c-8582-599d983dd9f9"
      },
      "execution_count": 4,
      "outputs": [
        {
          "output_type": "execute_result",
          "data": {
            "text/plain": [
              "range(1, 19)"
            ]
          },
          "metadata": {},
          "execution_count": 4
        }
      ]
    },
    {
      "cell_type": "code",
      "source": [
        "for hari in range(1,30,15):\n",
        "  print(hari)"
      ],
      "metadata": {
        "colab": {
          "base_uri": "https://localhost:8080/"
        },
        "id": "7j0q1rYi0Uij",
        "outputId": "31f8bb4c-8e93-40dd-9b01-e4a442f77cdc"
      },
      "execution_count": 8,
      "outputs": [
        {
          "output_type": "stream",
          "name": "stdout",
          "text": [
            "1\n",
            "16\n"
          ]
        }
      ]
    },
    {
      "cell_type": "markdown",
      "source": [
        "factorial program"
      ],
      "metadata": {
        "id": "Jqywe1937prU"
      }
    },
    {
      "cell_type": "code",
      "source": [
        "num = int(input('enter number = '))\n",
        "factorial = 1\n",
        "if num < 0:\n",
        "  print('not defined')\n",
        "elif num == 0:\n",
        "  print('value is 1')\n",
        "else:\n",
        "  for i in range(1,num + 1):\n",
        "    factorial = factorial * i\n",
        "  print(\"factorial =\", factorial)"
      ],
      "metadata": {
        "colab": {
          "base_uri": "https://localhost:8080/"
        },
        "id": "HpZy2Xgf08AW",
        "outputId": "7218f727-18b0-4ba7-8eb1-dafbe99c80d8"
      },
      "execution_count": 19,
      "outputs": [
        {
          "output_type": "stream",
          "name": "stdout",
          "text": [
            "enter number =4\n",
            "factorial = 24\n"
          ]
        }
      ]
    },
    {
      "cell_type": "markdown",
      "source": [
        "pass"
      ],
      "metadata": {
        "id": "FhcqJvLl9M0b"
      }
    },
    {
      "cell_type": "code",
      "source": [
        "name = ['sasad','dadasd','adasd','daasd']\n",
        "for i in name:\n",
        "  pass\n",
        "  print(i)"
      ],
      "metadata": {
        "colab": {
          "base_uri": "https://localhost:8080/"
        },
        "id": "wo1MYW-P8X2c",
        "outputId": "d5e3dfd8-a240-46c0-cb76-00827b8b51b9"
      },
      "execution_count": 21,
      "outputs": [
        {
          "output_type": "stream",
          "name": "stdout",
          "text": [
            "sasad\n",
            "dadasd\n",
            "adasd\n",
            "daasd\n"
          ]
        }
      ]
    },
    {
      "cell_type": "code",
      "source": [
        "name = ['asdsa','sdqd','dewd','fdwedw','fewdew']\n",
        "for i in name:\n",
        " if len(i) == 3:\n",
        "    continue\n",
        "    print(f'my name is {i}')"
      ],
      "metadata": {
        "id": "h5mAsJW09YDp"
      },
      "execution_count": 32,
      "outputs": []
    },
    {
      "cell_type": "code",
      "source": [],
      "metadata": {
        "id": "J9s6XULT9zm8"
      },
      "execution_count": null,
      "outputs": []
    }
  ]
}